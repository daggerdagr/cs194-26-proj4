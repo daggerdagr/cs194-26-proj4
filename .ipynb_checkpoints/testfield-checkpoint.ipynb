{
 "cells": [
  {
   "cell_type": "code",
   "execution_count": 3,
   "metadata": {},
   "outputs": [
    {
     "name": "stdout",
     "output_type": "stream",
     "text": [
      "Populating the interactive namespace from numpy and matplotlib\n"
     ]
    }
   ],
   "source": [
    "%pylab qt"
   ]
  },
  {
   "cell_type": "code",
   "execution_count": 22,
   "metadata": {},
   "outputs": [],
   "source": [
    "import numpy as np\n",
    "import matplotlib.pyplot as plt\n",
    "from scipy.spatial import Delaunay\n",
    "import scipy\n",
    "from collections import OrderedDict\n",
    "from scipy import interpolate\n",
    "from skimage.draw import polygon\n",
    "from abc import ABC, abstractmethod\n",
    "\n",
    "from utils import *\n",
    "import imageio"
   ]
  },
  {
   "cell_type": "code",
   "execution_count": 49,
   "metadata": {
    "collapsed": true
   },
   "outputs": [],
   "source": [
    "class Image:\n",
    "    \n",
    "    def __init__(self, name, imArr, pts = None):\n",
    "        self.name = name\n",
    "        self.imArr = imArr\n",
    "        self.pts = pts\n",
    "        self.height, self.width = imArr.shape[:2]\n",
    "\n",
    "    def fromPath(pathName):\n",
    "        imArr, imName = readImageNName(pathName)\n",
    "        result = Image(imName, imArr)\n",
    "        return result\n",
    "\n",
    "    def setPts(self, ptSetup, withCorners = True):\n",
    "        ptsCt = sum([x for x in ptSetup.values()])\n",
    "        # print(\"ptsCt: \", ptsCt)\n",
    "        self.pts = np.array(getPoints(self, ptsCt))\n",
    "        if withCorners:\n",
    "            self.pts = np.vstack((self.pts, Image.getCorners(self.imArr)))\n",
    "        self.ptsSetup = ptsSetup\n",
    "        return self.pts\n",
    "    \n",
    "    def getCorners(imArr):\n",
    "        print(\"Getting corners.\")\n",
    "        return np.array([(0, 0), (imArr.shape[1], 0), (0, imArr.shape[0]), (imArr.shape[1], imArr.shape[0])])\n",
    "    \n",
    "#     def refreshDims(self):\n",
    "#         self.height, self.width = imArr.shape[:2]\n",
    "    "
   ]
  },
  {
   "cell_type": "code",
   "execution_count": 5,
   "metadata": {
    "collapsed": true
   },
   "outputs": [],
   "source": []
  },
  {
   "cell_type": "code",
   "execution_count": 6,
   "metadata": {},
   "outputs": [
    {
     "name": "stdout",
     "output_type": "stream",
     "text": [
      "(43, 2)\n",
      "(4, 2)\n"
     ]
    }
   ],
   "source": [
    "imMan1, _ = readImageNName(\"sample_imgs/01-2m.jpg\")\n",
    "\n",
    "imM1 = Image.fromPath(\"sample_imgs/01-2m.jpg\")\n",
    "imM2 = Image.fromPath(\"sample_imgs/05-2m.jpg\")\n",
    "\n",
    "imM1PresetPts = np.array([(310.4090909090909, 415.6038961038961), (268.8506493506494, 397.42207792207785), (244.17532467532467, 361.0584415584415), (227.2922077922078, 314.3051948051948), (224.69480519480518, 236.38311688311683), (233.7857142857143, 185.73376623376618), (263.6558441558442, 148.0714285714285), (348.07142857142856, 144.1753246753246), (381.8376623376623, 177.94155844155836), (400.01948051948057, 235.08441558441552), (397.42207792207796, 309.1103896103896), (381.8376623376623, 351.9675324675324), (354.56493506493507, 394.8246753246753), (215.60389610389612, 310.4090909090909), (202.6168831168831, 270.1493506493506), (203.9155844155844, 235.08441558441552), (200.01948051948048, 181.83766233766227), (215.60389610389612, 133.78571428571422), (248.07142857142858, 98.72077922077915), (368.8506493506494, 98.72077922077915), (406.51298701298697, 135.08441558441552), (423.3961038961039, 179.24025974025966), (415.6038961038961, 238.98051948051943), (422.0974025974026, 279.24025974025966), (411.7077922077922, 315.6038961038961), (270.1493506493506, 242.8766233766233), (350.66883116883116, 244.1753246753246), (237.68181818181816, 228.590909090909), (254.56493506493504, 216.90259740259734), (298.72077922077926, 224.6948051948051), (327.2922077922078, 225.9935064935064), (362.3571428571429, 218.20129870129864), (387.03246753246754, 229.8896103896103), (310.4090909090909, 240.27922077922074), (283.1363636363636, 296.12337662337654), (311.7077922077922, 302.61688311688306), (335.08441558441564, 297.42207792207785), (257.1623376623377, 320.79870129870125), (310.4090909090909, 329.8896103896103), (357.1623376623377, 325.9935064935064), (274.0454545454545, 337.68181818181813), (309.1103896103896, 354.564935064935), (335.08441558441564, 344.17532467532465)])\n",
    "imM2PresetPts = np.array([(327.2922077922078, 389.6298701298701), (279.2402597402597, 366.2532467532467), (250.6688311688312, 320.79870129870125), (242.87662337662337, 279.24025974025966), (246.77272727272728, 220.79870129870125), (255.86363636363635, 171.4480519480519), (289.62987012987014, 124.6948051948051), (390.92857142857144, 135.08441558441552), (415.6038961038961, 183.13636363636357), (424.6948051948052, 231.18831168831161), (419.5, 297.42207792207785), (406.51298701298697, 337.68181818181813), (379.2402597402597, 374.0454545454545), (236.38311688311686, 274.0454545454545), (235.08441558441555, 245.4740259740259), (236.38311688311686, 211.70779220779212), (242.87662337662337, 154.56493506493496), (259.7597402597403, 98.72077922077915), (310.4090909090909, 62.357142857142776), (377.9415584415584, 67.55194805194793), (419.5, 105.21428571428561), (433.78571428571433, 148.0714285714285), (431.1883116883117, 231.18831168831161), (428.5909090909091, 259.75974025974017), (424.6948051948052, 285.7337662337662), (297.42207792207796, 228.590909090909), (379.2402597402597, 235.08441558441552), (267.5519480519481, 215.60389610389603), (296.12337662337666, 206.51298701298697), (325.9935064935065, 211.70779220779212), (351.96753246753246, 218.20129870129864), (376.6428571428571, 211.70779220779212), (405.2142857142858, 220.79870129870125), (336.38311688311694, 228.590909090909), (309.1103896103896, 277.94155844155836), (338.98051948051955, 285.7337662337662), (362.3571428571429, 275.3441558441558), (287.03246753246754, 301.31818181818176), (336.38311688311694, 301.31818181818176), (371.448051948052, 305.21428571428567), (305.21428571428567, 316.90259740259734), (329.8896103896104, 323.39610389610385), (358.461038961039, 319.49999999999994)])\n",
    "\n",
    "print(imM1PresetPts.shape)\n",
    "print(getCorners(imM1.imArr).shape)\n",
    "\n",
    "# imM1.pts = np.vstack((imM1PresetPts, getCorners(imM1.imArr)))\n",
    "# imM2.pts = np.vstack((imM2PresetPts, getCorners(imM2.imArr)))\n",
    "\n",
    "\n",
    "#### Defaults\n",
    "mainPtSetup = OrderedDict()\n",
    "mainPtSetup['wo'] = 13\n",
    "mainPtSetup['bo'] = 12\n",
    "mainPtSetup['go'] = 2\n",
    "mainPtSetup['co'] = 6\n",
    "mainPtSetup['ro'] = 4\n",
    "mainPtSetup['yo'] = 6\n",
    "# side pixels setup"
   ]
  },
  {
   "cell_type": "code",
   "execution_count": 7,
   "metadata": {},
   "outputs": [
    {
     "name": "stdout",
     "output_type": "stream",
     "text": [
      "Getting corners.\n",
      "Getting corners.\n"
     ]
    }
   ],
   "source": [
    "imMyFace_neutral = Image.fromPath(\"../Photos/Regina_Ongowarsito_25605679_1.jpg\")\n",
    "imMyFace_smile = Image.fromPath(\"../Photos/Regina_Ongowarsito_25605679_2.jpg\")\n",
    "\n",
    "imMyFace_neutral.pts = np.array([(309.3766233766233, 678.1753246753246), (201.19480519480516, 656.0974025974026), (134.96103896103892, 594.2792207792207), (115.09090909090907, 510.3831168831168), (108.46753246753241, 344.7987012987013), (137.1688311688311, 232.2012987012987), (238.7272727272727, 150.51298701298697), (417.5584415584414, 163.75974025974017), (490.4155844155843, 238.82467532467524), (527.9480519480519, 355.8376623376623), (527.9480519480519, 514.7987012987012), (503.6623376623375, 600.9025974025974), (430.80519480519473, 660.512987012987), (97.42857142857139, 505.96753246753246), (77.55844155844147, 444.1493506493506), (75.35064935064929, 366.87662337662334), (86.38961038961031, 236.61688311688306), (163.66233766233762, 112.98051948051943), (247.55844155844142, 68.82467532467524), (410.9350649350649, 79.86363636363637), (497.03896103896085, 139.47402597402595), (563.272727272727, 247.65584415584408), (576.5194805194803, 371.2922077922077), (569.8961038961038, 444.1493506493506), (552.2337662337661, 503.7597402597402), (229.89610389610385, 358.0454545454545), (408.7272727272726, 355.8376623376623), (152.6233766233766, 311.68181818181813), (187.94805194805184, 278.56493506493507), (251.9740259740259, 276.3571428571428), (371.19480519480504, 282.98051948051943), (433.0129870129869, 280.77272727272725), (481.58441558441547, 311.68181818181813), (307.1688311688311, 353.62987012987014), (260.80519480519473, 468.43506493506493), (309.3766233766233, 479.47402597402595), (368.98701298701286, 472.8506493506493), (243.14285714285705, 558.9545454545455), (307.1688311688311, 510.3831168831168), (377.8181818181817, 543.5), (278.4675324675324, 558.9545454545455), (311.58441558441547, 567.7857142857142), (344.70129870129864, 567.7857142857142)])\n",
    "imMyFace_smile.pts = np.array([(292.3939393939393, 677.0151515151515), (169.36363636363632, 647.3181818181818), (114.21212121212113, 577.3181818181818), (101.48484848484838, 488.2272727272726), (95.12121212121207, 337.6212121212119), (129.06060606060595, 233.6818181818179), (224.51515151515144, 148.83333333333303), (389.9696969696968, 157.31818181818153), (472.6969696969696, 240.04545454545428), (513.0, 352.46969696969677), (508.7575757575757, 496.7121212121211), (485.4242424242423, 581.560606060606), (417.54545454545445, 653.6818181818181), (73.90909090909082, 486.10606060606045), (65.42424242424232, 418.2272727272726), (69.66666666666657, 354.5909090909089), (82.39393939393932, 220.95454545454515), (156.63636363636357, 112.77272727272702), (216.03030303030295, 72.46969696969666), (415.4242424242423, 83.07575757575728), (459.9696969696968, 121.25757575757552), (527.8484848484848, 229.43939393939365), (536.3333333333333, 365.1969696969695), (534.212121212121, 428.83333333333314), (529.9696969696968, 490.3484848484847), (205.42424242424232, 352.46969696969677), (389.9696969696968, 352.46969696969677), (137.54545454545445, 312.1666666666664), (171.48484848484844, 286.712121212121), (252.09090909090895, 280.34848484848465), (360.2727272727272, 282.46969696969677), (434.51515151515144, 288.83333333333314), (468.4545454545453, 316.40909090909065), (296.63636363636357, 346.1060606060604), (241.48484848484844, 464.89393939393926), (294.51515151515144, 473.3787878787877), (351.7878787878787, 467.01515151515133), (213.90909090909082, 530.651515151515), (296.63636363636357, 513.681818181818), (372.99999999999994, 532.7727272727271), (249.96969696969694, 547.621212121212), (298.7575757575757, 558.2272727272725), (341.1818181818181, 556.1060606060605)])\n",
    "\n",
    "imMyFace_neutral.pts = np.vstack((imMyFace_neutral.pts, Image.getCorners(imMyFace_neutral.imArr)))\n",
    "imMyFace_smile.pts = np.vstack((imMyFace_smile.pts, Image.getCorners(imMyFace_smile.imArr)))\n",
    "\n",
    "# neutralPts = imMyFace_neutral.setPts(mainPtSetup)\n",
    "# smilePts = imMyFace_smile.setPts(mainPtSetup)"
   ]
  },
  {
   "cell_type": "code",
   "execution_count": 10,
   "metadata": {},
   "outputs": [],
   "source": [
    "dispPtsOnImg(imMyFace_neutral.imArr, imMyFace_neutral.pts)"
   ]
  },
  {
   "cell_type": "code",
   "execution_count": 9,
   "metadata": {
    "collapsed": true
   },
   "outputs": [],
   "source": [
    "def getPoints(im, n):\n",
    "    n = int(n)\n",
    "    plt.imshow(im.imArr)\n",
    "    points = plt.ginput(n, timeout = 300, show_clicks=True)\n",
    "    plt.close()\n",
    "    print(\"points gotten from\", im.name, \":\", str(points))\n",
    "    return np.array(points)\n",
    "\n",
    "def dispPtsOnImg(imMan1, results):\n",
    "    plt.imshow(imMan1)\n",
    "    plt.plot(results[:, 0], results[:, 1], 'bo')\n",
    "    for ind, tup in enumerate(results):\n",
    "        x, y = tup\n",
    "        plt.text(x, y, str(ind))\n",
    "#     for x, y in results:\n",
    "#         plt.text(x, y, \"%d-%d\" % (x,y))\n",
    "    plt.waitforbuttonpress()\n",
    "    plt.close()"
   ]
  },
  {
   "cell_type": "code",
   "execution_count": null,
   "metadata": {
    "collapsed": true
   },
   "outputs": [],
   "source": [
    "def dispTriangulation(test_tri, im = None):\n",
    "    if type(im) == np.ndarray:\n",
    "        plt.imshow(im)\n",
    "    plt.triplot(test_tri.points[:, 0], test_tri.points[:, 1], test_tri.simplices)\n",
    "    # plt.plot(test_tri.points[:, 0], test_tri.points[:, 1])\n",
    "    plt.waitforbuttonpress()\n",
    "    plt.close()"
   ]
  },
  {
   "cell_type": "code",
   "execution_count": null,
   "metadata": {
    "collapsed": true
   },
   "outputs": [],
   "source": [
    "def delaunaySmartCp(points, baseDela):\n",
    "    assert len(points) == len(baseDela.points), \"Number of points is not equal\"\n",
    "    # uses input pts, simplices\n",
    "    \n",
    "#     print(\"points:\", points)\n",
    "#     print(\"baseDela.points:\", baseDela.points)\n",
    "    \n",
    "    newDela = Delaunay(baseDela.points.copy())\n",
    "    newDela.simplices[:] = baseDela.simplices[:]\n",
    "    newDela.points[:] = points\n",
    "    \n",
    "    return newDela\n",
    "    \n",
    "\n",
    "#def fnXX(im1, im2, ptSetup = mainPtSetup):\n",
    "#     im1.setPts(ptSetup)\n",
    "#     im2.setPts(ptSetup)\n",
    "\n",
    "# fnXX(imM1, imM2)"
   ]
  },
  {
   "cell_type": "code",
   "execution_count": null,
   "metadata": {
    "collapsed": true
   },
   "outputs": [],
   "source": [
    "\"\"\"\n",
    "given point P\n",
    "find end_triangle of P\n",
    "find corresponding start_triangle #should be the same index as end_triangle\n",
    "\n",
    "calculate the transformation T from end triangle to start triangle\n",
    "\n",
    "apply T to P to get P', which is P equivalent in start_triangle\n",
    "\n",
    "P' is absolutely going to be in the middle of pixels, so interpolate it\n",
    "\n",
    "put P' to P\n",
    "\n",
    "\"\"\"\n",
    "\n",
    "\n",
    "\n",
    "\n"
   ]
  },
  {
   "cell_type": "code",
   "execution_count": null,
   "metadata": {
    "collapsed": true
   },
   "outputs": [],
   "source": [
    "dispPtsOnImg(im1.imArr, im1.pts)\n",
    "dispPtsOnImg(im2.imArr, im2.pts)\n",
    "im2Dela.find_simplex(np.array([289, 98])) # NOTE: x,y in matplotlib"
   ]
  },
  {
   "cell_type": "code",
   "execution_count": null,
   "metadata": {},
   "outputs": [],
   "source": [
    "plt.close()\n",
    "# t1 = A\n",
    "# t2 = X\n",
    "clust1 = np.array([[1, 1], [4, 4], [6,1]])\n",
    "# clust2 = np.array([[0, 1], [2, 1], [3,3]])\n",
    "clust2 = np.array([[1, 1], [6, 6], [6,1]])\n",
    "simp = np.array([[0, 1, 2]])\n",
    "# clust2 = np.array([1, 2, 3])\n",
    "plt.triplot(clust1[:, 0], clust1[:, 1], simp)\n",
    "plt.triplot(clust2[:, 0], clust2[:, 1], simp)\n",
    "\n",
    "def transformationMatrixFind(a_vects, x_vects):\n",
    "    assert a_vects.shape == (3, 2) and x_vects.shape == (3, 2), \"inputs are not triangle points of shape (3, 2)\"\n",
    "    \n",
    "    matrixer = lambda p0, p1, p2: np.array([p0, p1, p2]).T\n",
    "    # RETURNS TAKES X, Y FORMAT, RETURNS X, Y FORMAT [X, Y, 1]T\n",
    "\n",
    "    A = np.vstack((a_vects.T, np.ones((1, 3))))\n",
    "    X = np.vstack((x_vects.T, np.ones((1, 3))))\n",
    "    \n",
    "    try:\n",
    "        Ainv = np.linalg.inv(A)\n",
    "    except LinAlgError as e:\n",
    "        print(A)\n",
    "        raise e\n",
    "    T = np.dot(X, Ainv)\n",
    "\n",
    "    return T\n",
    "\n",
    "\n",
    "### TEST\n",
    "# triA = Delaunay(clust1)\n",
    "startP = np.array((2, 1.75))\n",
    "plt.plot(startP[0], startP[1], 'bo')\n",
    "\n",
    "# scipy.spatial.tsearch(triA, startP)\n",
    "stackV = lambda vect, i: np.hstack((vect, np.array([i])))\n",
    "Ttt = transformationMatrixFind(clust1, clust2)\n",
    "\n",
    "applyP = np.dot(Ttt, stackV(startP, 1))\n",
    "plt.plot(applyP[0], applyP[1], 'go')\n",
    "\n",
    "#, clust1, clust2"
   ]
  },
  {
   "cell_type": "code",
   "execution_count": null,
   "metadata": {
    "collapsed": true
   },
   "outputs": [],
   "source": [
    "def warp2ArrResult(targetImage, sourceImage, triangulation):\n",
    "    assert targetImage.imArr.shape[:2] == sourceImage.imArr.shape[:2]\n",
    "    assert len(targetImage.pts) == len(sourceImage.pts) == len(triangulation.points), \"correspondence points not equal between two input images\"\n",
    "    \n",
    "    finalTargetImageArr = targetImage.imArr.copy()\n",
    "    \n",
    "    # plt.close()\n",
    "    source_Rchan = scipy.interpolate.interp2d(range(sourceImage.width), range(sourceImage.height), sourceImage.imArr[:,:,0])\n",
    "    source_Gchan = scipy.interpolate.interp2d(range(sourceImage.width), range(sourceImage.height), sourceImage.imArr[:,:,1])\n",
    "    source_Bchan = scipy.interpolate.interp2d(range(sourceImage.width), range(sourceImage.height), sourceImage.imArr[:,:,2])\n",
    "\n",
    "    triangles = triangulation.simplices\n",
    "    matrices = []\n",
    "#     print(\"targetImage:\\n\", targetImage.pts)\n",
    "#     print(\"sourceImage:\\n\", sourceImage.pts)\n",
    "#     return\n",
    "    for i in range(len(triangles)): # range(len(triangles)):\n",
    "        tri_indexes = triangles[i]\n",
    "        targetTriangle = targetImage.pts[tri_indexes]\n",
    "        sourceTriangle = sourceImage.pts[tri_indexes]\n",
    "#         print(\"tri_indexes:\\n\", tri_indexes)\n",
    "#         print(\"targetTriangle:\\n\", targetTriangle)\n",
    "#         print(\"sourceTriangle:\\n\", sourceTriangle)\n",
    "\n",
    "        # plt.triplot(targetTriangle[:, 0], targetTriangle[:, 1], simp, \"g-\")\n",
    "        # plt.triplot(sourceTriangle[:, 0], sourceTriangle[:, 1], simp, \"r-\")\n",
    "\n",
    "        transf = transformationMatrixFind(targetTriangle, sourceTriangle)\n",
    "\n",
    "        # matrices.append()\n",
    "        polyRes = polygon(targetTriangle[:, 0], targetTriangle[:, 1])\n",
    "    #     print(polyRes)\n",
    "        Aline = np.vstack((polyRes[0], polyRes[1]))\n",
    "    #     print(polyRes[0])\n",
    "    #     print(Aline)\n",
    "\n",
    "\n",
    "        # plt.plot(Aline[0], Aline[1], 'ro')\n",
    "\n",
    "        # #     for x in Aline:\n",
    "        # #         print(\" \".join([str(y) for y in x]))\n",
    "        # #         print()\n",
    "\n",
    "        Xline = np.dot(transf, np.vstack((Aline, np.ones(Aline.shape[1]))))[:2]\n",
    "        # plt.plot(Xline[0], Xline[1], 'go')\n",
    "\n",
    "\n",
    "        for i in range(Aline.shape[1]):\n",
    "            currA = Aline[:, i]\n",
    "            currX = Xline[:, i]\n",
    "            # print(currA, currX)\n",
    "            finalTargetImageArr[int(currA[1]), int(currA[0]),:] = [source_Rchan(currX[0], currX[1]), source_Gchan(currX[0], currX[1]), source_Bchan(currX[0], currX[1])]\n",
    "            \n",
    "    return finalTargetImageArr\n",
    "\n",
    "# def morph(im1, im2, im1Dela, im2Dela, midPtsDela, warpAlpha, dissolveAlpha):\n",
    "# assert 0 <= warpAlpha and warpAlpha <= 1, \"Warp alpha invalid.\"\n",
    "# assert 0 <= dissolveAlpha and dissolveAlpha <= 1, \"Dissolve alpha invalid.\"\n",
    "\n",
    "def morph(im1, im2, warpAlpha, dissolveAlpha, midPtsDela):\n",
    "    assert len(im1.pts) == len(im2.pts)\n",
    "    \n",
    "    warpAlpha1 = warpAlpha\n",
    "    warpAlpha2 = 1 - warpAlpha\n",
    "    midPts = np.dot(im1.pts, warpAlpha1) + np.dot(im2.pts, warpAlpha2)\n",
    "    midWay = Image(\"mid_img\", np.zeros(list(im1.imArr.shape[:2]) + [3]), midPts)\n",
    "\n",
    "    midWay1Arr = warp2ArrResult(midWay, im1, midPtsDela)\n",
    "    midWay2Arr = warp2ArrResult(midWay, im2, midPtsDela)\n",
    "\n",
    "    disAlpha1 = dissolveAlpha\n",
    "    disAlpha2 = 1 - dissolveAlpha\n",
    "    assert disAlpha1 + disAlpha2 == 1.0\n",
    "\n",
    "    midWay.imArr = midWay1Arr * disAlpha1 + midWay2Arr * disAlpha2\n",
    "    \n",
    "    return midWay\n",
    "\n",
    "\n",
    "def createMidwayDela(im1, im2):\n",
    "    assert len(im1.pts) == len(im2.pts)\n",
    "    return Delaunay(np.dot(im1.pts + im2.pts, 0.5))\n",
    "\n",
    "# midPtsDela = createMidwayDela(imM1, imM2)\n",
    "# plt.imshow(morph(imM1, imM2, 0.5, 0.5, midPtsDela).imArr)\n",
    "\n",
    "\n",
    "# midWay.imArr\n",
    "    "
   ]
  },
  {
   "cell_type": "code",
   "execution_count": 128,
   "metadata": {},
   "outputs": [],
   "source": [
    "class FaceDb(ABC):\n",
    "    \n",
    "    allDatabases = dict()\n",
    "    \n",
    "    @property\n",
    "    @abstractmethod\n",
    "    def ptsSetup(self):\n",
    "        pass\n",
    "    \n",
    "    \n",
    "    def __init__(self, dbName, directoryPath, imgformat, ptsformat):#, fileReader):\n",
    "        FaceDb.allDatabases[dbName] = self\n",
    "        self.name = dbName\n",
    "        # self.ptsSetup = ptsSetup\n",
    "        self.directoryPath = directoryPath\n",
    "#         self.fileReader = fileReader\n",
    "        self.imgformat = imgformat\n",
    "        self.ptsformat = ptsformat\n",
    "        self.allIms = dict()\n",
    "    \n",
    "    def createImg(self, filename):\n",
    "        im = Image.fromPath(\"%s/%s\" % (self.directoryPath, filename))\n",
    "        self.allIms[im.name] = im\n",
    "        return im\n",
    "    \n",
    "    @abstractmethod\n",
    "    def readPts(self, filename):\n",
    "        pass\n",
    "    \n",
    "    def createImgWCorrPts(self, imgName):\n",
    "        im = self.createImg(\"%s.%s\" % (imgName, self.imgformat))\n",
    "        im.pts = self.readPts(\"%s.%s\" % (imgName, self.ptsformat))\n",
    "        im.ptsSetup = self.ptsSetup\n",
    "        return im\n",
    "        \n",
    "    def getImgNames(self):\n",
    "        rawFileList = os.listdir(self.directoryPath)\n",
    "        namesFileList = []\n",
    "        for f in rawFileList:\n",
    "            fullName = os.path.splitext(f)\n",
    "            if fullName[1] == \".%s\" % self.imgformat:\n",
    "                namesFileList.append(fullName[0])\n",
    "        return set(namesFileList)\n",
    "\n",
    "    def getAllImsWPts(self):\n",
    "        fileNames = self.getImgNames()\n",
    "\n",
    "        for fileName in fileNames:\n",
    "            im = self.createImgWCorrPts(fileName)\n",
    "        return self.allIms\n",
    "\n",
    "\n",
    "    "
   ]
  },
  {
   "cell_type": "code",
   "execution_count": 129,
   "metadata": {},
   "outputs": [],
   "source": [
    "class DanesDb(FaceDb):\n",
    "    \n",
    "    ptsSetup = OrderedDict()\n",
    "    ptsSetup[\"jaw\"] = 13\n",
    "    ptsSetup[\"right_eye\"] = 8\n",
    "    ptsSetup[\"left_eye\"] = 8\n",
    "    ptsSetup[\"right_eyebrow\"] = 5\n",
    "    ptsSetup[\"left_eyebrow\"] = 5\n",
    "    ptsSetup[\"mouth\"] = 8\n",
    "    ptsSetup[\"nose\"] = 11\n",
    "    \n",
    "    def readPts(self, filename):\n",
    "        # def danesPtsReader(fileName):\n",
    "        # fileName = \"../imm_face_db/01-1m.asf\"\n",
    "        fullPath = \"%s/%s\" % (self.directoryPath, filename)\n",
    "        rawPtsInput = fileToString(fullPath).split(\"\\n\")[16:-6]\n",
    "        listFormatInput = [line.split(\" \\t\") for line in rawPtsInput]\n",
    "        xYcoordTupsRelative = [(float(line[2]), float(line[3])) for line in listFormatInput]\n",
    "        xYcoordTupsFinal = [(x * 640, y * 480) for x, y in xYcoordTupsRelative]\n",
    "        return np.array(xYcoordTupsFinal)"
   ]
  },
  {
   "cell_type": "code",
   "execution_count": 130,
   "metadata": {},
   "outputs": [],
   "source": [
    "testDanesDb = DanesDb(\"test\", \"../imm_face_db\", \"jpg\", \"asf\")"
   ]
  },
  {
   "cell_type": "code",
   "execution_count": 131,
   "metadata": {},
   "outputs": [
    {
     "data": {
      "text/plain": [
       "{'01-1m': <__main__.Image at 0xd63658198>,\n",
       " '01-2m': <__main__.Image at 0xd6363bd68>,\n",
       " '01-3m': <__main__.Image at 0xd63633da0>,\n",
       " '01-4m': <__main__.Image at 0xd63658b70>,\n",
       " '01-5m': <__main__.Image at 0xd63640ef0>,\n",
       " '01-6m': <__main__.Image at 0xd63640518>,\n",
       " '02-1m': <__main__.Image at 0xd63640c50>,\n",
       " '02-2m': <__main__.Image at 0xd63654828>,\n",
       " '02-3m': <__main__.Image at 0xd636589b0>,\n",
       " '02-4m': <__main__.Image at 0xd63640f60>,\n",
       " '02-5m': <__main__.Image at 0xd63640780>,\n",
       " '02-6m': <__main__.Image at 0xd63654128>,\n",
       " '03-1m': <__main__.Image at 0xd63650a58>,\n",
       " '03-2m': <__main__.Image at 0xd6363b048>,\n",
       " '03-3m': <__main__.Image at 0xd63650390>,\n",
       " '03-4m': <__main__.Image at 0xd63640320>,\n",
       " '03-5m': <__main__.Image at 0xd6363b1d0>,\n",
       " '03-6m': <__main__.Image at 0xd63654ac8>,\n",
       " '04-1m': <__main__.Image at 0xd63658390>,\n",
       " '04-2m': <__main__.Image at 0xd63658da0>,\n",
       " '04-3m': <__main__.Image at 0xd636505c0>,\n",
       " '04-4m': <__main__.Image at 0xd63658ba8>,\n",
       " '04-5m': <__main__.Image at 0xd6363b5c0>,\n",
       " '04-6m': <__main__.Image at 0xd636548d0>,\n",
       " '05-1m': <__main__.Image at 0xd63650ef0>,\n",
       " '05-2m': <__main__.Image at 0xd63654198>,\n",
       " '05-3m': <__main__.Image at 0xd63638cf8>,\n",
       " '05-4m': <__main__.Image at 0xd636583c8>,\n",
       " '05-5m': <__main__.Image at 0xd63658518>,\n",
       " '05-6m': <__main__.Image at 0xd6363b668>,\n",
       " '06-1m': <__main__.Image at 0xd63654d68>,\n",
       " '06-2m': <__main__.Image at 0xd63650e48>,\n",
       " '06-3m': <__main__.Image at 0xd63658ac8>,\n",
       " '06-4m': <__main__.Image at 0xd63633668>,\n",
       " '06-5m': <__main__.Image at 0xd636337b8>,\n",
       " '06-6m': <__main__.Image at 0xd636504e0>,\n",
       " '07-1m': <__main__.Image at 0xd6363bba8>,\n",
       " '07-2m': <__main__.Image at 0xd63638b00>,\n",
       " '07-3m': <__main__.Image at 0xd636584e0>,\n",
       " '07-4m': <__main__.Image at 0xd63638588>,\n",
       " '07-5m': <__main__.Image at 0xd6363bda0>,\n",
       " '07-6m': <__main__.Image at 0xd6363b710>,\n",
       " '08-1f': <__main__.Image at 0xd3c6875f8>,\n",
       " '08-2f': <__main__.Image at 0xd63654630>,\n",
       " '08-3f': <__main__.Image at 0xd63658908>,\n",
       " '08-4f': <__main__.Image at 0xd63658c50>,\n",
       " '08-5f': <__main__.Image at 0xd63640ba8>,\n",
       " '08-6f': <__main__.Image at 0xd63650128>,\n",
       " '09-1m': <__main__.Image at 0xd636503c8>,\n",
       " '09-2m': <__main__.Image at 0xd63654c18>,\n",
       " '09-3m': <__main__.Image at 0xd636541d0>,\n",
       " '09-4m': <__main__.Image at 0xd63650cf8>,\n",
       " '09-5m': <__main__.Image at 0xd636400b8>,\n",
       " '09-6m': <__main__.Image at 0xd63650320>,\n",
       " '10-1m': <__main__.Image at 0xd63654d30>,\n",
       " '10-2m': <__main__.Image at 0xd63640d68>,\n",
       " '10-3m': <__main__.Image at 0xd63650780>,\n",
       " '10-4m': <__main__.Image at 0xd63640860>,\n",
       " '10-5m': <__main__.Image at 0xd636582e8>,\n",
       " '10-6m': <__main__.Image at 0xd63654cc0>,\n",
       " '11-1m': <__main__.Image at 0xd6363b390>,\n",
       " '11-2m': <__main__.Image at 0xd636546d8>,\n",
       " '11-3m': <__main__.Image at 0xd63650da0>,\n",
       " '11-4m': <__main__.Image at 0xd63638780>,\n",
       " '11-5m': <__main__.Image at 0xd63658048>,\n",
       " '11-6m': <__main__.Image at 0xd63638ba8>,\n",
       " '12-1f': <__main__.Image at 0xd63654b70>,\n",
       " '12-2f': <__main__.Image at 0xd63638978>,\n",
       " '12-3f': <__main__.Image at 0xd63640390>,\n",
       " '12-4f': <__main__.Image at 0xd636384e0>,\n",
       " '12-5f': <__main__.Image at 0xd63638908>,\n",
       " '12-6f': <__main__.Image at 0xd63650710>,\n",
       " '13-1m': <__main__.Image at 0xd636500f0>,\n",
       " '13-2m': <__main__.Image at 0xd63633470>,\n",
       " '13-3m': <__main__.Image at 0xd63638710>,\n",
       " '13-4m': <__main__.Image at 0xd636507b8>,\n",
       " '13-5m': <__main__.Image at 0xd63654748>,\n",
       " '13-6m': <__main__.Image at 0xd6363b908>,\n",
       " '14-1f': <__main__.Image at 0xd63658d68>,\n",
       " '14-2f': <__main__.Image at 0xd63650470>,\n",
       " '14-3f': <__main__.Image at 0xd63650f98>,\n",
       " '14-4f': <__main__.Image at 0xd63650c50>,\n",
       " '14-5f': <__main__.Image at 0xd63633278>,\n",
       " '14-6f': <__main__.Image at 0xd63638da0>,\n",
       " '15-1f': <__main__.Image at 0xd63658f60>,\n",
       " '15-2f': <__main__.Image at 0xd63658860>,\n",
       " '15-3f': <__main__.Image at 0xd6363b198>,\n",
       " '15-4f': <__main__.Image at 0xd63638b70>,\n",
       " '15-5f': <__main__.Image at 0xd63633f98>,\n",
       " '15-6f': <__main__.Image at 0xd63650b00>,\n",
       " '16-1m': <__main__.Image at 0xd636331d0>,\n",
       " '16-2m': <__main__.Image at 0xd6363b4e0>,\n",
       " '16-3m': <__main__.Image at 0xd63638c50>,\n",
       " '16-4m': <__main__.Image at 0xd63638390>,\n",
       " '16-5m': <__main__.Image at 0xd636389b0>,\n",
       " '16-6m': <__main__.Image at 0xd63633ba8>,\n",
       " '17-1m': <__main__.Image at 0xd63633860>,\n",
       " '17-2m': <__main__.Image at 0xd63654438>,\n",
       " '17-3m': <__main__.Image at 0xd63654550>,\n",
       " '17-4m': <__main__.Image at 0xd6363b278>,\n",
       " '17-5m': <__main__.Image at 0xd63658e48>,\n",
       " '17-6m': <__main__.Image at 0xd63640048>,\n",
       " '18-1m': <__main__.Image at 0xd63640cf8>,\n",
       " '18-2m': <__main__.Image at 0xd63658978>,\n",
       " '18-3m': <__main__.Image at 0xd63658b00>,\n",
       " '18-4m': <__main__.Image at 0xd63654978>,\n",
       " '18-5m': <__main__.Image at 0xd63650d68>,\n",
       " '18-6m': <__main__.Image at 0xd63633048>,\n",
       " '19-1m': <__main__.Image at 0xd636330b8>,\n",
       " '19-2m': <__main__.Image at 0xd63638ac8>,\n",
       " '19-3m': <__main__.Image at 0xd636383c8>,\n",
       " '19-4m': <__main__.Image at 0xd6363b860>,\n",
       " '19-5m': <__main__.Image at 0xd63633518>,\n",
       " '19-6m': <__main__.Image at 0xd63658278>,\n",
       " '20-1m': <__main__.Image at 0xd6363b780>,\n",
       " '20-2m': <__main__.Image at 0xd636403c8>,\n",
       " '20-3m': <__main__.Image at 0xd63638d68>,\n",
       " '20-4m': <__main__.Image at 0xd63640588>,\n",
       " '20-5m': <__main__.Image at 0xd63650198>,\n",
       " '20-6m': <__main__.Image at 0xd63654940>,\n",
       " '21-1m': <__main__.Image at 0xd636407b8>,\n",
       " '21-2m': <__main__.Image at 0xd636381d0>,\n",
       " '21-3m': <__main__.Image at 0xd63638a58>,\n",
       " '21-4m': <__main__.Image at 0xd6363bf98>,\n",
       " '21-5m': <__main__.Image at 0xd63640080>,\n",
       " '21-6m': <__main__.Image at 0xd636540b8>,\n",
       " '22-1f': <__main__.Image at 0xd63640e48>,\n",
       " '22-2f': <__main__.Image at 0xd6363b978>,\n",
       " '22-3f': <__main__.Image at 0xd636385c0>,\n",
       " '22-4f': <__main__.Image at 0xd636542e8>,\n",
       " '22-5f': <__main__.Image at 0xd63633908>,\n",
       " '22-6f': <__main__.Image at 0xd6363b0f0>,\n",
       " '23-1m': <__main__.Image at 0xd63654390>,\n",
       " '23-2m': <__main__.Image at 0xd636402e8>,\n",
       " '23-3m': <__main__.Image at 0xd63658470>,\n",
       " '23-4m': <__main__.Image at 0xd63638048>,\n",
       " '23-5m': <__main__.Image at 0xd636335c0>,\n",
       " '23-6m': <__main__.Image at 0xd6363b7b8>,\n",
       " '24-1m': <__main__.Image at 0xd63654a20>,\n",
       " '24-2m': <__main__.Image at 0xd63650ac8>,\n",
       " '24-3m': <__main__.Image at 0xd63640908>,\n",
       " '24-4m': <__main__.Image at 0xd63633ef0>,\n",
       " '24-5m': <__main__.Image at 0xd636580b8>,\n",
       " '24-6m': <__main__.Image at 0xd63633b00>,\n",
       " '25-1m': <__main__.Image at 0xd636585c0>,\n",
       " '25-2m': <__main__.Image at 0xd636544a8>,\n",
       " '25-3m': <__main__.Image at 0xd63640710>,\n",
       " '25-4m': <__main__.Image at 0xd636501d0>,\n",
       " '25-5m': <__main__.Image at 0xd636382e8>,\n",
       " '25-6m': <__main__.Image at 0xd6363bef0>,\n",
       " '26-1m': <__main__.Image at 0xd63658ef0>,\n",
       " '26-2m': <__main__.Image at 0xd63654780>,\n",
       " '26-3m': <__main__.Image at 0xd63658588>,\n",
       " '26-4m': <__main__.Image at 0xd6363b3c8>,\n",
       " '26-5m': <__main__.Image at 0xd6363ba58>,\n",
       " '26-6m': <__main__.Image at 0xd63633c50>,\n",
       " '27-1m': <__main__.Image at 0xd6363b470>,\n",
       " '27-2m': <__main__.Image at 0xd63638518>,\n",
       " '27-3m': <__main__.Image at 0xd636587b8>,\n",
       " '27-4m': <__main__.Image at 0xd63658668>,\n",
       " '27-5m': <__main__.Image at 0xd636404e0>,\n",
       " '27-6m': <__main__.Image at 0xd63658080>,\n",
       " '28-1m': <__main__.Image at 0xd63640978>,\n",
       " '28-2m': <__main__.Image at 0xd63658f98>,\n",
       " '28-3m': <__main__.Image at 0xd636544e0>,\n",
       " '28-4m': <__main__.Image at 0xd63650860>,\n",
       " '28-5m': <__main__.Image at 0xd636405c0>,\n",
       " '28-6m': <__main__.Image at 0xd63633cf8>,\n",
       " '29-1m': <__main__.Image at 0xd63640da0>,\n",
       " '29-2m': <__main__.Image at 0xd636387b8>,\n",
       " '29-3m': <__main__.Image at 0xd63650668>,\n",
       " '29-4m': <__main__.Image at 0xd6363b9b0>,\n",
       " '29-5m': <__main__.Image at 0xd63633320>,\n",
       " '29-6m': <__main__.Image at 0xd63640a58>,\n",
       " '30-1f': <__main__.Image at 0xd63640470>,\n",
       " '30-2f': <__main__.Image at 0xd63638860>,\n",
       " '30-3f': <__main__.Image at 0xd63638278>,\n",
       " '30-4f': <__main__.Image at 0xd63658cf8>,\n",
       " '30-5f': <__main__.Image at 0xd6363bc50>,\n",
       " '30-6f': <__main__.Image at 0xd63654208>,\n",
       " '31-1m': <__main__.Image at 0xd63638ef0>,\n",
       " '31-2m': <__main__.Image at 0xd63638f98>,\n",
       " '31-3m': <__main__.Image at 0xd636333c8>,\n",
       " '31-4m': <__main__.Image at 0xd63650048>,\n",
       " '31-5m': <__main__.Image at 0xd63650518>,\n",
       " '31-6m': <__main__.Image at 0xd63654f28>,\n",
       " '32-1m': <__main__.Image at 0xd63638668>,\n",
       " '32-2m': <__main__.Image at 0xd63650f60>,\n",
       " '32-3m': <__main__.Image at 0xd63638320>,\n",
       " '32-4m': <__main__.Image at 0xd6363bf60>,\n",
       " '32-5m': <__main__.Image at 0xd63640f98>,\n",
       " '32-6m': <__main__.Image at 0xd63640668>,\n",
       " '33-1m': <__main__.Image at 0xd63654a90>,\n",
       " '33-2m': <__main__.Image at 0xd636409b0>,\n",
       " '33-3m': <__main__.Image at 0xd63658710>,\n",
       " '33-4m': <__main__.Image at 0xd6363be48>,\n",
       " '33-5m': <__main__.Image at 0xd63633e48>,\n",
       " '33-6m': <__main__.Image at 0xd63650908>,\n",
       " '34-1m': <__main__.Image at 0xd6363bb00>,\n",
       " '34-2m': <__main__.Image at 0xd63638f60>,\n",
       " '34-3m': <__main__.Image at 0xd63658a58>,\n",
       " '34-4m': <__main__.Image at 0xd636581d0>,\n",
       " '34-5m': <__main__.Image at 0xd6363b320>,\n",
       " '34-6m': <__main__.Image at 0xd63638080>,\n",
       " '35-1f': <__main__.Image at 0xd6363b518>,\n",
       " '35-2f': <__main__.Image at 0xd63658320>,\n",
       " '35-3f': <__main__.Image at 0xd63640ac8>,\n",
       " '35-4f': <__main__.Image at 0xd636401d0>,\n",
       " '35-5f': <__main__.Image at 0xd63658780>,\n",
       " '35-6f': <__main__.Image at 0xd63638470>,\n",
       " '36-1m': <__main__.Image at 0xd63654b38>,\n",
       " '36-2m': <__main__.Image at 0xd63640b70>,\n",
       " '36-3m': <__main__.Image at 0xd63650ba8>,\n",
       " '36-4m': <__main__.Image at 0xd63638198>,\n",
       " '36-5m': <__main__.Image at 0xd63633a58>,\n",
       " '36-6m': <__main__.Image at 0xd63654eb8>,\n",
       " '37-1m': <__main__.Image at 0xd636542b0>,\n",
       " '37-2m': <__main__.Image at 0xd6363b128>,\n",
       " '37-3m': <__main__.Image at 0xd63650278>,\n",
       " '37-4m': <__main__.Image at 0xd6363b588>,\n",
       " '37-5m': <__main__.Image at 0xd63654e10>,\n",
       " '37-6m': <__main__.Image at 0xd63633710>,\n",
       " '38-1m': <__main__.Image at 0xd63654f60>,\n",
       " '38-2m': <__main__.Image at 0xd636380b8>,\n",
       " '38-3m': <__main__.Image at 0xd6363bac8>,\n",
       " '38-4m': <__main__.Image at 0xd63654358>,\n",
       " '38-5m': <__main__.Image at 0xd63650b70>,\n",
       " '38-6m': <__main__.Image at 0xd63650588>,\n",
       " '39-1m': <__main__.Image at 0xd63640198>,\n",
       " '39-2m': <__main__.Image at 0xd636339b0>,\n",
       " '39-3m': <__main__.Image at 0xd63640b00>,\n",
       " '39-4m': <__main__.Image at 0xd63640278>,\n",
       " '39-5m': <__main__.Image at 0xd63638e48>,\n",
       " '39-6m': <__main__.Image at 0xd63654588>,\n",
       " '40-1m': <__main__.Image at 0xd636502e8>,\n",
       " '40-2m': <__main__.Image at 0xd6363b2e8>,\n",
       " '40-3m': <__main__.Image at 0xd636509b0>,\n",
       " '40-4m': <__main__.Image at 0xd63650978>,\n",
       " '40-5m': <__main__.Image at 0xd6363bb70>,\n",
       " '40-6m': <__main__.Image at 0xd6363bcf8>}"
      ]
     },
     "execution_count": 131,
     "metadata": {},
     "output_type": "execute_result"
    }
   ],
   "source": [
    "testDanesDb.getAllImsWPts()"
   ]
  },
  {
   "cell_type": "code",
   "execution_count": 132,
   "metadata": {},
   "outputs": [
    {
     "ename": "TypeError",
     "evalue": "data type not understood",
     "output_type": "error",
     "traceback": [
      "\u001b[0;31m---------------------------------------------------------------------------\u001b[0m",
      "\u001b[0;31mTypeError\u001b[0m                                 Traceback (most recent call last)",
      "\u001b[0;32m<ipython-input-132-53f405731741>\u001b[0m in \u001b[0;36m<module>\u001b[0;34m()\u001b[0m\n\u001b[1;32m      3\u001b[0m \u001b[0mimHeight\u001b[0m \u001b[0;34m=\u001b[0m \u001b[0;36m480\u001b[0m\u001b[0;34m\u001b[0m\u001b[0m\n\u001b[1;32m      4\u001b[0m \u001b[0;34m\u001b[0m\u001b[0m\n\u001b[0;32m----> 5\u001b[0;31m \u001b[0mfinalIm\u001b[0m \u001b[0;34m=\u001b[0m \u001b[0mImage\u001b[0m\u001b[0;34m(\u001b[0m\u001b[0;34m\"final_im\"\u001b[0m\u001b[0;34m,\u001b[0m \u001b[0mnp\u001b[0m\u001b[0;34m.\u001b[0m\u001b[0mzeros\u001b[0m\u001b[0;34m(\u001b[0m\u001b[0;36m480\u001b[0m\u001b[0;34m,\u001b[0m \u001b[0;36m640\u001b[0m\u001b[0;34m,\u001b[0m \u001b[0;36m3\u001b[0m\u001b[0;34m)\u001b[0m\u001b[0;34m)\u001b[0m\u001b[0;34m\u001b[0m\u001b[0m\n\u001b[0m\u001b[1;32m      6\u001b[0m \u001b[0;34m\u001b[0m\u001b[0m\n\u001b[1;32m      7\u001b[0m \u001b[0;32mfor\u001b[0m \u001b[0mim\u001b[0m \u001b[0;32min\u001b[0m \u001b[0mallIms\u001b[0m\u001b[0;34m:\u001b[0m\u001b[0;34m\u001b[0m\u001b[0m\n",
      "\u001b[0;31mTypeError\u001b[0m: data type not understood"
     ]
    }
   ],
   "source": [
    "allIms = testDanesDb.allIms.values()\n",
    "imWidth = 640\n",
    "imHeight = 480\n",
    "\n",
    "finalIm = Image(\"final_im\", np.zeros(480, 640, 3))\n",
    "\n",
    "for im in allIms:\n",
    "    if finalIm.pts == None:\n",
    "        finalIm.pts = im.pts\n",
    "    else:\n",
    "        finalIm.pts += im.pts\n",
    "        \n",
    "finalIm.pts = finalIm.pts / len(allIms)"
   ]
  },
  {
   "cell_type": "code",
   "execution_count": null,
   "metadata": {
    "collapsed": true
   },
   "outputs": [],
   "source": []
  },
  {
   "cell_type": "markdown",
   "metadata": {},
   "source": [
    "# Danes Reader"
   ]
  },
  {
   "cell_type": "code",
   "execution_count": 75,
   "metadata": {
    "collapsed": true
   },
   "outputs": [],
   "source": [
    "def fileToString(fileName):\n",
    "    f = open(fileName, \"r+\")\n",
    "    content = f.read()\n",
    "    f.close()\n",
    "    return content\n",
    "\n",
    "# print(sum([x for x in danesDbPtsSetup.values()]))\n",
    "# danesDb = FaceDb(\"Danes\", )\n",
    "\n",
    "def dispPtsOnImgWSetup(im, results, ptsSetup):\n",
    "    assert type(ptsSetup) == OrderedDict\n",
    "    plt.close()\n",
    "    plt.imshow(im)\n",
    "    \n",
    "    start = 0\n",
    "    for label, ct in ptsSetup.items():\n",
    "        end = start + ct\n",
    "        plt.plot(results[start:end, 0], results[start:end, 1], 'o')\n",
    "        start = end\n",
    "#     for x, y in results:\n",
    "#         plt.text(x, y, \"%d-%d\" % (x,y))\n",
    "    for ind, coord in enumerate(results):\n",
    "        x, y = coord\n",
    "        plt.text(x, y, str(ind))"
   ]
  },
  {
   "cell_type": "code",
   "execution_count": null,
   "metadata": {
    "collapsed": true
   },
   "outputs": [],
   "source": [
    "# np.array(file011mPts)\n",
    "dispPtsOnImgWSetup(imM1.imArr, np.array(file011mPts), danesDbPtsSetup)"
   ]
  },
  {
   "cell_type": "code",
   "execution_count": null,
   "metadata": {
    "collapsed": true
   },
   "outputs": [],
   "source": []
  },
  {
   "cell_type": "code",
   "execution_count": null,
   "metadata": {
    "collapsed": true
   },
   "outputs": [],
   "source": []
  },
  {
   "cell_type": "markdown",
   "metadata": {
    "collapsed": true
   },
   "source": [
    "# Morph Sequence"
   ]
  },
  {
   "cell_type": "code",
   "execution_count": null,
   "metadata": {
    "collapsed": true
   },
   "outputs": [],
   "source": [
    "### createMorph\n",
    "\n",
    "def createMorphSequence(im1, im2, steps):\n",
    "    \"\"\"\n",
    "    create \n",
    "    \"\"\"\n",
    "    # assert 0 <= step and step <= 1, \"step value is invalid: %s\" % step\n",
    "    assert 0 < steps, \"steps value is invalid: %s\" % step \n",
    "    assert len(im1.pts) == len(im2.pts)\n",
    "\n",
    "    midDela = createMidwayDela(im1, im2)\n",
    "    \n",
    "    finalStack = []\n",
    "    \n",
    "    for alpha in np.linspace(0, 1.0, steps):\n",
    "        print(\"Start morphing alpha: \", alpha)\n",
    "        result = morph(im1, im2, alpha, alpha, midDela)\n",
    "        print(\"End morphing alpha: \", alpha)\n",
    "        finalStack.append(result)\n",
    "        \n",
    "    return finalStack\n",
    "    "
   ]
  },
  {
   "cell_type": "code",
   "execution_count": null,
   "metadata": {
    "collapsed": true
   },
   "outputs": [],
   "source": [
    "resss = createMorphSequence(imM1, imM2, 6)"
   ]
  },
  {
   "cell_type": "code",
   "execution_count": null,
   "metadata": {
    "collapsed": true
   },
   "outputs": [],
   "source": [
    "for im in resss:\n",
    "    plt.imshow(im.imArr)\n",
    "    plt.waitforbuttonpress()\n",
    "    plt.close()"
   ]
  },
  {
   "cell_type": "code",
   "execution_count": null,
   "metadata": {
    "collapsed": true
   },
   "outputs": [],
   "source": [
    "def convertToGif(fileName, lstImArr):\n",
    "    imageio.mimsave('./%s/%s.gif' % (fOutputDirectory, fileName), [im.imArr for im in lstImArr])\n",
    "    return\n",
    "convertToGif(\"test\", resss)"
   ]
  },
  {
   "cell_type": "code",
   "execution_count": null,
   "metadata": {
    "collapsed": true
   },
   "outputs": [],
   "source": []
  },
  {
   "cell_type": "code",
   "execution_count": null,
   "metadata": {
    "collapsed": true
   },
   "outputs": [],
   "source": []
  },
  {
   "cell_type": "code",
   "execution_count": null,
   "metadata": {
    "collapsed": true
   },
   "outputs": [],
   "source": []
  },
  {
   "cell_type": "code",
   "execution_count": null,
   "metadata": {
    "collapsed": true
   },
   "outputs": [],
   "source": [
    "im1 = imM1\n",
    "im2 = imM2\n",
    "warpAlpha = 0.5\n",
    "dissolveAlpha = 0.5\n",
    "\n",
    "# dispPtsOnImg(im2.imArr, im2.pts)\n",
    "# dispPtsOnImg(im1.imArr, im1.pts)\n",
    "\n",
    "assert im1.imArr.shape[:2] == sourceImage.imArr.shape[:2]\n",
    "\n",
    "# im1Dela = delaunaySmartCp(im1.pts, midPtsDela)\n",
    "# print(im1Dela.points, im1.pts)\n",
    "# im1.pts[0] = [1, 1]\n",
    "# print(im1Dela.points, im1.pts)\n",
    "# im2Dela = delaunaySmartCp(im2.pts, midPtsDela)\n",
    "\n",
    "dispTriangulation(im1Dela,  im1.imArr)\n",
    "dispTriangulation(im2Dela, im2.imArr)\n",
    "dispTriangulation(midPtsDela, im1.imArr)\n",
    "dispTriangulation(midPtsDela, im2.imArr)"
   ]
  },
  {
   "cell_type": "code",
   "execution_count": null,
   "metadata": {
    "collapsed": true
   },
   "outputs": [],
   "source": [
    "test_tri = Delaunay(results)\n",
    "x_results = [x[0] for x in results]\n",
    "y_results = [x[1] for x in results]\n",
    "plt.triplot(x_results, y_results, test_tri.simplices)\n",
    "plt.plot(x_results, y_results, 'bo')\n",
    "\n",
    "test_tri.points[:]= np.dot(test_tri.points, np.roll(np.eye(2), 1, axis=1))\n",
    "plt.triplot(test_tri.points[:, 0], test_tri.points[:, 1], test_tri.simplices)\n",
    "plt.plot(test_tri.points[:, 0], test_tri.points[:, 1], 'ro')"
   ]
  },
  {
   "cell_type": "code",
   "execution_count": null,
   "metadata": {
    "collapsed": true
   },
   "outputs": [],
   "source": [
    "plt.close()\n",
    "import random\n",
    "x = [0,1,2]\n",
    "y = [0,3]\n",
    "z = [[1,2,3], [4,5,6]]\n",
    "f = interpolate.interp2d(x, y, z, kind='linear')\n",
    "import matplotlib.pyplot as plt\n",
    "# xnew = np.arange(-5.01, 5.01, 1e-2)\n",
    "# ynew = np.arange(-5.01, 5.01, 1e-2)\n",
    "znew = f([1.4], [2])\n",
    "znew\n",
    "#znew = f(xnew, ynew)\n",
    "# plt.plot(xnew, znew[0, :], 'bo-')\n",
    "# plt.show()\n",
    "# znew"
   ]
  },
  {
   "cell_type": "code",
   "execution_count": null,
   "metadata": {
    "collapsed": true
   },
   "outputs": [],
   "source": [
    "img = np.zeros((10, 10), dtype=np.uint8)\n",
    "r = np.array([1, 2, 8, 1])\n",
    "c = np.array([1, 7, 4, 1])\n",
    "rr, cc = polygon(r, c)\n",
    "img[rr, cc] = 1\n",
    "img, rr, cc"
   ]
  },
  {
   "cell_type": "code",
   "execution_count": null,
   "metadata": {
    "collapsed": true
   },
   "outputs": [],
   "source": [
    "# r_only = im1.imArr[:,:,0]\n",
    "# print(\"r_only:\\n\", r_only)\n",
    "# r_flat = r_only.T.reshape(im1.width * im1.height)\n",
    "r_channel = scipy.interpolate.interp2d(range(im1.width), range(im1.height), im1.imArr[:,:,0])\n",
    "print(r_chan(0, 1))\n",
    "print(im1.imArr.shape)\n",
    "\n",
    "# print(r_flat[im1.width])\n",
    "meow_start = 0\n",
    "iSte = 0\n",
    "# while iSte != im1.height:\n",
    "#     meow_end = iSte + 1 * im1.width\n",
    "#     print(r_flat[meow_start:meow_end])\n",
    "#     print()\n",
    "#     print(im1.imArr[iSte, :, 0])\n",
    "#     print(\"---\")\n",
    "#     meow_start = meow_end\n",
    "#     iSte +=1\n",
    "print(im1.imArr[0, 0, 0], im1.imArr[0, 1, 0], im1.imArr[1, 0, 0], im1.imArr[1, 1, 0])"
   ]
  },
  {
   "cell_type": "code",
   "execution_count": null,
   "metadata": {
    "collapsed": true
   },
   "outputs": [],
   "source": [
    "testtt = np.array([\n",
    "    [[1, 2, 3], [4, 5, 6]],\n",
    "    [[7, 8, 9], [10, 11, 12]]\n",
    "])\n",
    "\n",
    "testtt.reshape(testtt.shape[0] * testtt.shape[1], 3)[:, 0]"
   ]
  },
  {
   "cell_type": "code",
   "execution_count": null,
   "metadata": {
    "collapsed": true
   },
   "outputs": [],
   "source": [
    "(0.10196078 + 0.0745098 + 0.08627451 +  0.07843137) / 4"
   ]
  },
  {
   "cell_type": "code",
   "execution_count": null,
   "metadata": {
    "collapsed": true
   },
   "outputs": [],
   "source": [
    "imInterp = im1\n",
    "px, py = (0, 0)\n",
    "\n",
    "red = im1.imArr[:, :, 0]\n",
    "# blue = im1[:, :, 1]\n",
    "# green = im1[:, :, 1]\n",
    "# redPoints = [red[py, px], red[py, px+1], red[py+1, px], red[py+1, px+1]]\n",
    "redPoints = [0, 1, 2, 3]\n",
    "r = scipy.interpolate.interp2d([px, px+1], [py, py+1], redPoints)\n",
    "r(1, 0)"
   ]
  }
 ],
 "metadata": {
  "kernelspec": {
   "display_name": "Python 3",
   "language": "python",
   "name": "python3"
  },
  "language_info": {
   "codemirror_mode": {
    "name": "ipython",
    "version": 3
   },
   "file_extension": ".py",
   "mimetype": "text/x-python",
   "name": "python",
   "nbconvert_exporter": "python",
   "pygments_lexer": "ipython3",
   "version": "3.6.6"
  }
 },
 "nbformat": 4,
 "nbformat_minor": 2
}
