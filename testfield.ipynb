{
 "cells": [
  {
   "cell_type": "code",
   "execution_count": 1,
   "metadata": {},
   "outputs": [
    {
     "name": "stdout",
     "output_type": "stream",
     "text": [
      "Populating the interactive namespace from numpy and matplotlib\n"
     ]
    }
   ],
   "source": [
    "%pylab qt"
   ]
  },
  {
   "cell_type": "code",
   "execution_count": 60,
   "metadata": {},
   "outputs": [],
   "source": [
    "import numpy as np\n",
    "import matplotlib.pyplot as plt\n",
    "from scipy.spatial import Delaunay\n",
    "import scipy\n",
    "from collections import OrderedDict\n",
    "from scipy import interpolate\n",
    "from skimage.draw import polygon\n",
    "\n",
    "from utils import *\n",
    "import imageio"
   ]
  },
  {
   "cell_type": "code",
   "execution_count": null,
   "metadata": {
    "collapsed": true
   },
   "outputs": [],
   "source": []
  },
  {
   "cell_type": "code",
   "execution_count": 4,
   "metadata": {
    "collapsed": true
   },
   "outputs": [],
   "source": [
    "class Image:\n",
    "    \n",
    "    def __init__(self, name, imArr, pts = None):\n",
    "        self.name = name\n",
    "        self.imArr = imArr\n",
    "        self.pts = pts\n",
    "        self.height, self.width = imArr.shape[:2]\n",
    "\n",
    "    def fromPath(pathName):\n",
    "        imArr, imName = readImageNName(pathName)\n",
    "        result = Image(imName, imArr)\n",
    "        return result\n",
    "\n",
    "    def setPts(self, ptSetup):\n",
    "        ptsCt = sum([x for x in ptSetup.values()])\n",
    "        print(\"ptsCt: \", ptsCt)\n",
    "        self.pts = getPoints(self, ptsCt)\n",
    "        self.ptSetup = ptSetup\n",
    "    \n",
    "#     def refreshDims(self):\n",
    "#         self.height, self.width = imArr.shape[:2]\n",
    "    "
   ]
  },
  {
   "cell_type": "code",
   "execution_count": null,
   "metadata": {
    "collapsed": true
   },
   "outputs": [],
   "source": [
    "sum([x for x in mainPtSetup.values()])"
   ]
  },
  {
   "cell_type": "code",
   "execution_count": 6,
   "metadata": {},
   "outputs": [],
   "source": [
    "def getCorners(imArr):\n",
    "    return np.array([(0, 0), (imArr.shape[1], 0), (0, imArr.shape[0]), (imArr.shape[1], imArr.shape[0])])"
   ]
  },
  {
   "cell_type": "code",
   "execution_count": 47,
   "metadata": {},
   "outputs": [
    {
     "name": "stdout",
     "output_type": "stream",
     "text": [
      "(43, 2)\n",
      "(4, 2)\n"
     ]
    }
   ],
   "source": [
    "imMan1, _ = readImageNName(\"sample_imgs/01-2m.jpg\")\n",
    "\n",
    "imM1 = Image.fromPath(\"sample_imgs/01-2m.jpg\")\n",
    "imM2 = Image.fromPath(\"sample_imgs/05-2m.jpg\")\n",
    "\n",
    "imM1PresetPts = np.array([(310.4090909090909, 415.6038961038961), (268.8506493506494, 397.42207792207785), (244.17532467532467, 361.0584415584415), (227.2922077922078, 314.3051948051948), (224.69480519480518, 236.38311688311683), (233.7857142857143, 185.73376623376618), (263.6558441558442, 148.0714285714285), (348.07142857142856, 144.1753246753246), (381.8376623376623, 177.94155844155836), (400.01948051948057, 235.08441558441552), (397.42207792207796, 309.1103896103896), (381.8376623376623, 351.9675324675324), (354.56493506493507, 394.8246753246753), (215.60389610389612, 310.4090909090909), (202.6168831168831, 270.1493506493506), (203.9155844155844, 235.08441558441552), (200.01948051948048, 181.83766233766227), (215.60389610389612, 133.78571428571422), (248.07142857142858, 98.72077922077915), (368.8506493506494, 98.72077922077915), (406.51298701298697, 135.08441558441552), (423.3961038961039, 179.24025974025966), (415.6038961038961, 238.98051948051943), (422.0974025974026, 279.24025974025966), (411.7077922077922, 315.6038961038961), (270.1493506493506, 242.8766233766233), (350.66883116883116, 244.1753246753246), (237.68181818181816, 228.590909090909), (254.56493506493504, 216.90259740259734), (298.72077922077926, 224.6948051948051), (327.2922077922078, 225.9935064935064), (362.3571428571429, 218.20129870129864), (387.03246753246754, 229.8896103896103), (310.4090909090909, 240.27922077922074), (283.1363636363636, 296.12337662337654), (311.7077922077922, 302.61688311688306), (335.08441558441564, 297.42207792207785), (257.1623376623377, 320.79870129870125), (310.4090909090909, 329.8896103896103), (357.1623376623377, 325.9935064935064), (274.0454545454545, 337.68181818181813), (309.1103896103896, 354.564935064935), (335.08441558441564, 344.17532467532465)])\n",
    "imM2PresetPts = np.array([(327.2922077922078, 389.6298701298701), (279.2402597402597, 366.2532467532467), (250.6688311688312, 320.79870129870125), (242.87662337662337, 279.24025974025966), (246.77272727272728, 220.79870129870125), (255.86363636363635, 171.4480519480519), (289.62987012987014, 124.6948051948051), (390.92857142857144, 135.08441558441552), (415.6038961038961, 183.13636363636357), (424.6948051948052, 231.18831168831161), (419.5, 297.42207792207785), (406.51298701298697, 337.68181818181813), (379.2402597402597, 374.0454545454545), (236.38311688311686, 274.0454545454545), (235.08441558441555, 245.4740259740259), (236.38311688311686, 211.70779220779212), (242.87662337662337, 154.56493506493496), (259.7597402597403, 98.72077922077915), (310.4090909090909, 62.357142857142776), (377.9415584415584, 67.55194805194793), (419.5, 105.21428571428561), (433.78571428571433, 148.0714285714285), (431.1883116883117, 231.18831168831161), (428.5909090909091, 259.75974025974017), (424.6948051948052, 285.7337662337662), (297.42207792207796, 228.590909090909), (379.2402597402597, 235.08441558441552), (267.5519480519481, 215.60389610389603), (296.12337662337666, 206.51298701298697), (325.9935064935065, 211.70779220779212), (351.96753246753246, 218.20129870129864), (376.6428571428571, 211.70779220779212), (405.2142857142858, 220.79870129870125), (336.38311688311694, 228.590909090909), (309.1103896103896, 277.94155844155836), (338.98051948051955, 285.7337662337662), (362.3571428571429, 275.3441558441558), (287.03246753246754, 301.31818181818176), (336.38311688311694, 301.31818181818176), (371.448051948052, 305.21428571428567), (305.21428571428567, 316.90259740259734), (329.8896103896104, 323.39610389610385), (358.461038961039, 319.49999999999994)])\n",
    "\n",
    "print(imM1PresetPts.shape)\n",
    "print(getCorners(imM1.imArr).shape)\n",
    "\n",
    "imM1.pts = np.vstack((imM1PresetPts, getCorners(imM1.imArr)))\n",
    "imM2.pts = np.vstack((imM2PresetPts, getCorners(imM2.imArr)))\n",
    "\n",
    "\n",
    "#### Defaults\n",
    "mainPtSetup = OrderedDict()\n",
    "mainPtSetup['wo'] = 13\n",
    "mainPtSetup['bo'] = 12\n",
    "mainPtSetup['go'] = 2\n",
    "mainPtSetup['co'] = 6\n",
    "mainPtSetup['ro'] = 4\n",
    "mainPtSetup['yo'] = 6\n",
    "# side pixels setup"
   ]
  },
  {
   "cell_type": "code",
   "execution_count": null,
   "metadata": {
    "collapsed": true
   },
   "outputs": [],
   "source": [
    "imM1.imArr.shape"
   ]
  },
  {
   "cell_type": "code",
   "execution_count": null,
   "metadata": {
    "collapsed": true
   },
   "outputs": [],
   "source": [
    "def getPoints(im, n):\n",
    "    n = int(n)\n",
    "    plt.imshow(im.imArr)\n",
    "    points = plt.ginput(n, timeout = 300, show_clicks=True)\n",
    "    plt.close()\n",
    "    print(\"points gotten from\", im.name, \":\", str(points))\n",
    "    return np.array(points)\n",
    "\n",
    "def dispPtsOnImg(imMan1, results):\n",
    "    plt.imshow(imMan1)\n",
    "    plt.plot(results[:, 0], results[:, 1], 'bo')\n",
    "    for x, y in results:\n",
    "        plt.text(x, y, \"%d-%d\" % (x,y))\n",
    "    plt.waitforbuttonpress()\n",
    "    plt.close()"
   ]
  },
  {
   "cell_type": "code",
   "execution_count": null,
   "metadata": {
    "collapsed": true
   },
   "outputs": [],
   "source": [
    "results = getPoints(imMan1, 3)"
   ]
  },
  {
   "cell_type": "code",
   "execution_count": null,
   "metadata": {
    "collapsed": true
   },
   "outputs": [],
   "source": [
    "def dispTriangulation(test_tri, im = None):\n",
    "    if type(im) == np.ndarray:\n",
    "        plt.imshow(im)\n",
    "    plt.triplot(test_tri.points[:, 0], test_tri.points[:, 1], test_tri.simplices)\n",
    "    # plt.plot(test_tri.points[:, 0], test_tri.points[:, 1])\n",
    "    plt.waitforbuttonpress()\n",
    "    plt.close()"
   ]
  },
  {
   "cell_type": "code",
   "execution_count": null,
   "metadata": {
    "collapsed": true
   },
   "outputs": [],
   "source": [
    "def delaunaySmartCp(points, baseDela):\n",
    "    assert len(points) == len(baseDela.points), \"Number of points is not equal\"\n",
    "    # uses input pts, simplices\n",
    "    \n",
    "#     print(\"points:\", points)\n",
    "#     print(\"baseDela.points:\", baseDela.points)\n",
    "    \n",
    "    newDela = Delaunay(baseDela.points.copy())\n",
    "    newDela.simplices[:] = baseDela.simplices[:]\n",
    "    newDela.points[:] = points\n",
    "    \n",
    "    return newDela\n",
    "    \n",
    "\n",
    "#def fnXX(im1, im2, ptSetup = mainPtSetup):\n",
    "#     im1.setPts(ptSetup)\n",
    "#     im2.setPts(ptSetup)\n",
    "\n",
    "# fnXX(imM1, imM2)"
   ]
  },
  {
   "cell_type": "code",
   "execution_count": null,
   "metadata": {
    "collapsed": true
   },
   "outputs": [],
   "source": [
    "\"\"\"\n",
    "given point P\n",
    "find end_triangle of P\n",
    "find corresponding start_triangle #should be the same index as end_triangle\n",
    "\n",
    "calculate the transformation T from end triangle to start triangle\n",
    "\n",
    "apply T to P to get P', which is P equivalent in start_triangle\n",
    "\n",
    "P' is absolutely going to be in the middle of pixels, so interpolate it\n",
    "\n",
    "put P' to P\n",
    "\n",
    "\"\"\"\n",
    "\n",
    "\n",
    "\n",
    "\n"
   ]
  },
  {
   "cell_type": "code",
   "execution_count": null,
   "metadata": {
    "collapsed": true
   },
   "outputs": [],
   "source": [
    "dispPtsOnImg(im1.imArr, im1.pts)\n",
    "dispPtsOnImg(im2.imArr, im2.pts)\n",
    "im2Dela.find_simplex(np.array([289, 98])) # NOTE: x,y in matplotlib"
   ]
  },
  {
   "cell_type": "code",
   "execution_count": 34,
   "metadata": {},
   "outputs": [
    {
     "data": {
      "text/plain": [
       "[<matplotlib.lines.Line2D at 0xd31bb9198>]"
      ]
     },
     "execution_count": 34,
     "metadata": {},
     "output_type": "execute_result"
    }
   ],
   "source": [
    "plt.close()\n",
    "# t1 = A\n",
    "# t2 = X\n",
    "clust1 = np.array([[1, 1], [4, 4], [6,1]])\n",
    "# clust2 = np.array([[0, 1], [2, 1], [3,3]])\n",
    "clust2 = np.array([[1, 1], [6, 6], [6,1]])\n",
    "simp = np.array([[0, 1, 2]])\n",
    "# clust2 = np.array([1, 2, 3])\n",
    "plt.triplot(clust1[:, 0], clust1[:, 1], simp)\n",
    "plt.triplot(clust2[:, 0], clust2[:, 1], simp)\n",
    "\n",
    "def transformationMatrixFind(a_vects, x_vects):\n",
    "    assert a_vects.shape == (3, 2) and x_vects.shape == (3, 2), \"inputs are not triangle points of shape (3, 2)\"\n",
    "    \n",
    "    matrixer = lambda p0, p1, p2: np.array([p0, p1, p2]).T\n",
    "    # RETURNS TAKES X, Y FORMAT, RETURNS X, Y FORMAT [X, Y, 1]T\n",
    "\n",
    "    A = np.vstack((a_vects.T, np.ones((1, 3))))\n",
    "    X = np.vstack((x_vects.T, np.ones((1, 3))))\n",
    "    \n",
    "    try:\n",
    "        Ainv = np.linalg.inv(A)\n",
    "    except LinAlgError as e:\n",
    "        print(A)\n",
    "        raise e\n",
    "    T = np.dot(X, Ainv)\n",
    "\n",
    "    return T\n",
    "\n",
    "\n",
    "### TEST\n",
    "# triA = Delaunay(clust1)\n",
    "startP = np.array((2, 1.75))\n",
    "plt.plot(startP[0], startP[1], 'bo')\n",
    "\n",
    "# scipy.spatial.tsearch(triA, startP)\n",
    "stackV = lambda vect, i: np.hstack((vect, np.array([i])))\n",
    "Ttt = transformationMatrixFind(clust1, clust2)\n",
    "\n",
    "applyP = np.dot(Ttt, stackV(startP, 1))\n",
    "plt.plot(applyP[0], applyP[1], 'go')\n",
    "\n",
    "#, clust1, clust2"
   ]
  },
  {
   "cell_type": "code",
   "execution_count": 50,
   "metadata": {},
   "outputs": [],
   "source": [
    "def warp2ArrResult(targetImage, sourceImage, triangulation):\n",
    "    assert targetImage.imArr.shape[:2] == sourceImage.imArr.shape[:2]\n",
    "    assert len(targetImage.pts) == len(sourceImage.pts) == len(triangulation.points), \"correspondence points not equal between two input images\"\n",
    "    \n",
    "    finalTargetImageArr = targetImage.imArr.copy()\n",
    "    \n",
    "    # plt.close()\n",
    "    source_Rchan = scipy.interpolate.interp2d(range(sourceImage.width), range(sourceImage.height), sourceImage.imArr[:,:,0])\n",
    "    source_Gchan = scipy.interpolate.interp2d(range(sourceImage.width), range(sourceImage.height), sourceImage.imArr[:,:,1])\n",
    "    source_Bchan = scipy.interpolate.interp2d(range(sourceImage.width), range(sourceImage.height), sourceImage.imArr[:,:,2])\n",
    "\n",
    "    triangles = triangulation.simplices\n",
    "    matrices = []\n",
    "#     print(\"targetImage:\\n\", targetImage.pts)\n",
    "#     print(\"sourceImage:\\n\", sourceImage.pts)\n",
    "#     return\n",
    "    for i in range(len(triangles)): # range(len(triangles)):\n",
    "        tri_indexes = triangles[i]\n",
    "        targetTriangle = targetImage.pts[tri_indexes]\n",
    "        sourceTriangle = sourceImage.pts[tri_indexes]\n",
    "#         print(\"tri_indexes:\\n\", tri_indexes)\n",
    "#         print(\"targetTriangle:\\n\", targetTriangle)\n",
    "#         print(\"sourceTriangle:\\n\", sourceTriangle)\n",
    "\n",
    "        # plt.triplot(targetTriangle[:, 0], targetTriangle[:, 1], simp, \"g-\")\n",
    "        # plt.triplot(sourceTriangle[:, 0], sourceTriangle[:, 1], simp, \"r-\")\n",
    "\n",
    "        transf = transformationMatrixFind(targetTriangle, sourceTriangle)\n",
    "\n",
    "        # matrices.append()\n",
    "        polyRes = polygon(targetTriangle[:, 0], targetTriangle[:, 1])\n",
    "    #     print(polyRes)\n",
    "        Aline = np.vstack((polyRes[0], polyRes[1]))\n",
    "    #     print(polyRes[0])\n",
    "    #     print(Aline)\n",
    "\n",
    "\n",
    "        # plt.plot(Aline[0], Aline[1], 'ro')\n",
    "\n",
    "        # #     for x in Aline:\n",
    "        # #         print(\" \".join([str(y) for y in x]))\n",
    "        # #         print()\n",
    "\n",
    "        Xline = np.dot(transf, np.vstack((Aline, np.ones(Aline.shape[1]))))[:2]\n",
    "        # plt.plot(Xline[0], Xline[1], 'go')\n",
    "\n",
    "\n",
    "        for i in range(Aline.shape[1]):\n",
    "            currA = Aline[:, i]\n",
    "            currX = Xline[:, i]\n",
    "            # print(currA, currX)\n",
    "            finalTargetImageArr[int(currA[1]), int(currA[0]),:] = [source_Rchan(currX[0], currX[1]), source_Gchan(currX[0], currX[1]), source_Bchan(currX[0], currX[1])]\n",
    "            \n",
    "    return finalTargetImageArr\n",
    "\n",
    "# def morph(im1, im2, im1Dela, im2Dela, midPtsDela, warpAlpha, dissolveAlpha):\n",
    "# assert 0 <= warpAlpha and warpAlpha <= 1, \"Warp alpha invalid.\"\n",
    "# assert 0 <= dissolveAlpha and dissolveAlpha <= 1, \"Dissolve alpha invalid.\"\n",
    "\n",
    "def morph(im1, im2, warpAlpha, dissolveAlpha, midPtsDela):\n",
    "    assert len(im1.pts) == len(im2.pts)\n",
    "    \n",
    "    warpAlpha1 = warpAlpha\n",
    "    warpAlpha2 = 1 - warpAlpha\n",
    "    midPts = np.dot(im1.pts, warpAlpha1) + np.dot(im2.pts, warpAlpha2)\n",
    "    midWay = Image(\"mid_img\", np.zeros(list(im1.imArr.shape[:2]) + [3]), midPts)\n",
    "\n",
    "    midWay1Arr = warp2ArrResult(midWay, im1, midPtsDela)\n",
    "    midWay2Arr = warp2ArrResult(midWay, im2, midPtsDela)\n",
    "\n",
    "    disAlpha1 = dissolveAlpha\n",
    "    disAlpha2 = 1 - dissolveAlpha\n",
    "    assert disAlpha1 + disAlpha2 == 1.0\n",
    "\n",
    "    midWay.imArr = midWay1Arr * disAlpha1 + midWay2Arr * disAlpha2\n",
    "    \n",
    "    return midWay\n",
    "\n",
    "\n",
    "def createMidwayDela(im1, im2):\n",
    "    assert len(im1.pts) == len(im2.pts)\n",
    "    return Delaunay(np.dot(im1.pts + im2.pts, 0.5))\n",
    "\n",
    "# midPtsDela = createMidwayDela(imM1, imM2)\n",
    "# plt.imshow(morph(imM1, imM2, 0.5, 0.5, midPtsDela).imArr)\n",
    "\n",
    "\n",
    "# midWay.imArr\n",
    "    "
   ]
  },
  {
   "cell_type": "code",
   "execution_count": 58,
   "metadata": {
    "collapsed": true
   },
   "outputs": [],
   "source": [
    "### createMorph\n",
    "\n",
    "def createMorphSequence(im1, im2, steps):\n",
    "    \"\"\"\n",
    "    create \n",
    "    \"\"\"\n",
    "    # assert 0 <= step and step <= 1, \"step value is invalid: %s\" % step\n",
    "    assert 0 < steps, \"steps value is invalid: %s\" % step \n",
    "    assert len(im1.pts) == len(im2.pts)\n",
    "\n",
    "    midDela = createMidwayDela(im1, im2)\n",
    "    \n",
    "    finalStack = []\n",
    "    \n",
    "    for alpha in np.linspace(0, 1.0, steps):\n",
    "        print(\"Start morphing alpha: \", alpha)\n",
    "        result = morph(im1, im2, alpha, alpha, midDela)\n",
    "        print(\"End morphing alpha: \", alpha)\n",
    "        finalStack.append(result)\n",
    "        \n",
    "    return finalStack\n",
    "    "
   ]
  },
  {
   "cell_type": "code",
   "execution_count": 57,
   "metadata": {},
   "outputs": [
    {
     "name": "stdout",
     "output_type": "stream",
     "text": [
      "0.0\n",
      "0.2\n",
      "0.4\n",
      "0.6000000000000001\n",
      "0.8\n",
      "1.0\n"
     ]
    }
   ],
   "source": [
    "resss = createMorphSequence(imM1, imM2, 6)"
   ]
  },
  {
   "cell_type": "code",
   "execution_count": 59,
   "metadata": {},
   "outputs": [],
   "source": [
    "for im in resss:\n",
    "    plt.imshow(im.imArr)\n",
    "    plt.waitforbuttonpress()\n",
    "    plt.close()"
   ]
  },
  {
   "cell_type": "code",
   "execution_count": 67,
   "metadata": {},
   "outputs": [
    {
     "name": "stderr",
     "output_type": "stream",
     "text": [
      "/Users/reginaongowarsito/anaconda3/lib/python3.6/site-packages/imageio/core/util.py:78: UserWarning: Lossy conversion from float64 to uint8, range [0, 1]\n",
      "  dtype_str, out_type.__name__))\n"
     ]
    }
   ],
   "source": [
    "def convertToGif(fileName, lstImArr):\n",
    "    imageio.mimsave('./%s/%s.gif' % (fOutputDirectory, fileName), [im.imArr for im in lstImArr])\n",
    "    return\n",
    "convertToGif(\"test\", resss)"
   ]
  },
  {
   "cell_type": "code",
   "execution_count": null,
   "metadata": {},
   "outputs": [],
   "source": [
    "im1 = imM1\n",
    "im2 = imM2\n",
    "warpAlpha = 0.5\n",
    "dissolveAlpha = 0.5\n",
    "\n",
    "# dispPtsOnImg(im2.imArr, im2.pts)\n",
    "# dispPtsOnImg(im1.imArr, im1.pts)\n",
    "\n",
    "assert im1.imArr.shape[:2] == sourceImage.imArr.shape[:2]\n",
    "\n",
    "# im1Dela = delaunaySmartCp(im1.pts, midPtsDela)\n",
    "# print(im1Dela.points, im1.pts)\n",
    "# im1.pts[0] = [1, 1]\n",
    "# print(im1Dela.points, im1.pts)\n",
    "# im2Dela = delaunaySmartCp(im2.pts, midPtsDela)\n",
    "\n",
    "dispTriangulation(im1Dela,  im1.imArr)\n",
    "dispTriangulation(im2Dela, im2.imArr)\n",
    "dispTriangulation(midPtsDela, im1.imArr)\n",
    "dispTriangulation(midPtsDela, im2.imArr)"
   ]
  },
  {
   "cell_type": "code",
   "execution_count": null,
   "metadata": {},
   "outputs": [],
   "source": [
    "midPts"
   ]
  },
  {
   "cell_type": "code",
   "execution_count": null,
   "metadata": {},
   "outputs": [],
   "source": [
    "plt.close()\n",
    "\n",
    "\n",
    "\n",
    "# for x in range(midWay.width):\n",
    "#     for y in range(midWay.height):\n",
    "#         triIndex = scipy.spatial.tsearch(im1Dela, (x, y))\n",
    "#         if triIndex >= len(matrices):\n",
    "#             continue\n",
    "#         plt.plot(x, y, 'bo')\n",
    "# #             # after coding, you shouldnt be able to reach here\n",
    "#         result = np.dot(matrices[triIndex], np.array((x, y, 1)))\n",
    "#         plt.plot(result[0], result[1], 'go')"
   ]
  },
  {
   "cell_type": "code",
   "execution_count": null,
   "metadata": {},
   "outputs": [],
   "source": [
    "test_tri = Delaunay(results)\n",
    "x_results = [x[0] for x in results]\n",
    "y_results = [x[1] for x in results]\n",
    "plt.triplot(x_results, y_results, test_tri.simplices)\n",
    "plt.plot(x_results, y_results, 'bo')\n",
    "\n",
    "test_tri.points[:]= np.dot(test_tri.points, np.roll(np.eye(2), 1, axis=1))\n",
    "plt.triplot(test_tri.points[:, 0], test_tri.points[:, 1], test_tri.simplices)\n",
    "plt.plot(test_tri.points[:, 0], test_tri.points[:, 1], 'ro')"
   ]
  },
  {
   "cell_type": "code",
   "execution_count": null,
   "metadata": {},
   "outputs": [],
   "source": [
    "plt.close()\n",
    "import random\n",
    "x = [0,1,2]\n",
    "y = [0,3]\n",
    "z = [[1,2,3], [4,5,6]]\n",
    "f = interpolate.interp2d(x, y, z, kind='linear')\n",
    "import matplotlib.pyplot as plt\n",
    "# xnew = np.arange(-5.01, 5.01, 1e-2)\n",
    "# ynew = np.arange(-5.01, 5.01, 1e-2)\n",
    "znew = f([1.4], [2])\n",
    "znew\n",
    "#znew = f(xnew, ynew)\n",
    "# plt.plot(xnew, znew[0, :], 'bo-')\n",
    "# plt.show()\n",
    "# znew"
   ]
  },
  {
   "cell_type": "code",
   "execution_count": null,
   "metadata": {},
   "outputs": [],
   "source": [
    "img = np.zeros((10, 10), dtype=np.uint8)\n",
    "r = np.array([1, 2, 8, 1])\n",
    "c = np.array([1, 7, 4, 1])\n",
    "rr, cc = polygon(r, c)\n",
    "img[rr, cc] = 1\n",
    "img, rr, cc"
   ]
  },
  {
   "cell_type": "code",
   "execution_count": null,
   "metadata": {},
   "outputs": [],
   "source": [
    "# r_only = im1.imArr[:,:,0]\n",
    "# print(\"r_only:\\n\", r_only)\n",
    "# r_flat = r_only.T.reshape(im1.width * im1.height)\n",
    "r_channel = scipy.interpolate.interp2d(range(im1.width), range(im1.height), im1.imArr[:,:,0])\n",
    "print(r_chan(0, 1))\n",
    "print(im1.imArr.shape)\n",
    "\n",
    "# print(r_flat[im1.width])\n",
    "meow_start = 0\n",
    "iSte = 0\n",
    "# while iSte != im1.height:\n",
    "#     meow_end = iSte + 1 * im1.width\n",
    "#     print(r_flat[meow_start:meow_end])\n",
    "#     print()\n",
    "#     print(im1.imArr[iSte, :, 0])\n",
    "#     print(\"---\")\n",
    "#     meow_start = meow_end\n",
    "#     iSte +=1\n",
    "print(im1.imArr[0, 0, 0], im1.imArr[0, 1, 0], im1.imArr[1, 0, 0], im1.imArr[1, 1, 0])"
   ]
  },
  {
   "cell_type": "code",
   "execution_count": null,
   "metadata": {},
   "outputs": [],
   "source": [
    "testtt = np.array([\n",
    "    [[1, 2, 3], [4, 5, 6]],\n",
    "    [[7, 8, 9], [10, 11, 12]]\n",
    "])\n",
    "\n",
    "testtt.reshape(testtt.shape[0] * testtt.shape[1], 3)[:, 0]"
   ]
  },
  {
   "cell_type": "code",
   "execution_count": null,
   "metadata": {},
   "outputs": [],
   "source": [
    "(0.10196078 + 0.0745098 + 0.08627451 +  0.07843137) / 4"
   ]
  },
  {
   "cell_type": "code",
   "execution_count": null,
   "metadata": {},
   "outputs": [],
   "source": [
    "imInterp = im1\n",
    "px, py = (0, 0)\n",
    "\n",
    "red = im1.imArr[:, :, 0]\n",
    "# blue = im1[:, :, 1]\n",
    "# green = im1[:, :, 1]\n",
    "# redPoints = [red[py, px], red[py, px+1], red[py+1, px], red[py+1, px+1]]\n",
    "redPoints = [0, 1, 2, 3]\n",
    "r = scipy.interpolate.interp2d([px, px+1], [py, py+1], redPoints)\n",
    "r(1, 0)"
   ]
  }
 ],
 "metadata": {
  "kernelspec": {
   "display_name": "Python 3",
   "language": "python",
   "name": "python3"
  },
  "language_info": {
   "codemirror_mode": {
    "name": "ipython",
    "version": 3
   },
   "file_extension": ".py",
   "mimetype": "text/x-python",
   "name": "python",
   "nbconvert_exporter": "python",
   "pygments_lexer": "ipython3",
   "version": "3.6.6"
  }
 },
 "nbformat": 4,
 "nbformat_minor": 2
}
